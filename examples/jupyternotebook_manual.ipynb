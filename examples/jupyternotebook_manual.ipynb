{
 "cells": [
  {
   "cell_type": "code",
   "execution_count": null,
   "metadata": {},
   "outputs": [],
   "source": [
    "from pathlib import Path\n",
    "from pyfaidx import Fasta\n",
    "\n",
    "from minigene_design._utils import (\n",
    "    read_and_filter,\n",
    "    extract_exon_info,\n",
    "    create_minigenes,\n",
    "    collapse_output,\n",
    "    replace_bbsl_restriction_site,\n",
    ")\n",
    "\n",
    "# define head paths\n",
    "HG38FOLDER = Path(\"../resources\")\n",
    "INPUTFOLDER = Path(\"../data/nextNEOpi\")"
   ]
  },
  {
   "cell_type": "code",
   "execution_count": null,
   "metadata": {},
   "outputs": [],
   "source": [
    "# import reference and data\n",
    "fasta_file = HG38FOLDER / \"GRCh38.d1.vd1.fa\"\n",
    "gtf_file = HG38FOLDER / \"gencode.v33.primary_assembly.annotation.gtf\"\n",
    "refgen = Fasta(filename=fasta_file)\n",
    "exon_info = extract_exon_info(gtf_file)"
   ]
  },
  {
   "cell_type": "code",
   "execution_count": null,
   "metadata": {},
   "outputs": [],
   "source": [
    "type(refgen)"
   ]
  },
  {
   "cell_type": "code",
   "execution_count": null,
   "metadata": {},
   "outputs": [],
   "source": [
    "type(exon_info)"
   ]
  },
  {
   "cell_type": "code",
   "execution_count": null,
   "metadata": {},
   "outputs": [],
   "source": [
    "samples = [\n",
    "    \"2020135\",\n",
    "    \"2020239_WO1\",\n",
    "    \"2020246_NO1\",\n",
    "    \"2020260_WO1\",\n",
    "    \"2020281_WO1\",\n",
    "    \"2021111_MO1\",\n",
    "    \"DES001\",\n",
    "    \"DES002\",\n",
    "    \"DES002_001\",\n",
    "    \"DES002_002\",\n",
    "    \"DES010\",\n",
    "]"
   ]
  },
  {
   "cell_type": "code",
   "execution_count": null,
   "metadata": {},
   "outputs": [],
   "source": [
    "results = {}\n",
    "for sample in samples:\n",
    "    file_input_path = INPUTFOLDER / sample / \"analyses\" / sample / \"05_vep\" / \"tables\" / \"high_confidence\" / f\"{sample}_hc_vep.txt\"\n",
    "    results[sample] = read_and_filter(file_input_path, keep_from_lines=103)\n",
    "\n",
    "for sample in samples:\n",
    "    print(sample, results[sample].shape)\n",
    "\n",
    "for sample in samples:\n",
    "    print(sample, results[sample].VARIANT_CLASS.unique())"
   ]
  },
  {
   "cell_type": "code",
   "execution_count": null,
   "metadata": {},
   "outputs": [],
   "source": [
    "final_results = {}\n",
    "for sample in samples:\n",
    "    final_results = create_minigenes(\n",
    "        df=results[sample],\n",
    "        sample=sample,\n",
    "        exon_info=exon_info,\n",
    "        fasta=refgen,\n",
    "        out_dict=final_results,\n",
    "    )"
   ]
  },
  {
   "cell_type": "code",
   "execution_count": null,
   "metadata": {},
   "outputs": [],
   "source": [
    "final_results[\"2020135\"]"
   ]
  },
  {
   "cell_type": "code",
   "execution_count": null,
   "metadata": {},
   "outputs": [],
   "source": [
    "ref_df, var_df = collapse_output(final_results)"
   ]
  },
  {
   "cell_type": "code",
   "execution_count": null,
   "metadata": {},
   "outputs": [],
   "source": [
    "ref_df = replace_bbsl_restriction_site(ref_df)"
   ]
  },
  {
   "cell_type": "code",
   "execution_count": null,
   "metadata": {},
   "outputs": [],
   "source": [
    "var_df = replace_bbsl_restriction_site(var_df)"
   ]
  },
  {
   "cell_type": "code",
   "execution_count": null,
   "metadata": {},
   "outputs": [],
   "source": [
    "ref_df"
   ]
  },
  {
   "cell_type": "code",
   "execution_count": null,
   "metadata": {},
   "outputs": [],
   "source": [
    "var_df"
   ]
  },
  {
   "cell_type": "code",
   "execution_count": null,
   "metadata": {},
   "outputs": [],
   "source": [
    "ref_df.to_csv(\"final_minigenes_control_v3.csv\", index=False)\n",
    "var_df.to_csv(\"final_minigenes_variant_v3.csv\", index=False)"
   ]
  },
  {
   "cell_type": "code",
   "execution_count": null,
   "metadata": {},
   "outputs": [],
   "source": []
  }
 ],
 "metadata": {
  "kernelspec": {
   "display_name": "minigene",
   "language": "python",
   "name": "python3"
  },
  "language_info": {
   "codemirror_mode": {
    "name": "ipython",
    "version": 3
   },
   "file_extension": ".py",
   "mimetype": "text/x-python",
   "name": "python",
   "nbconvert_exporter": "python",
   "pygments_lexer": "ipython3",
   "version": "3.13.3"
  }
 },
 "nbformat": 4,
 "nbformat_minor": 2
}
