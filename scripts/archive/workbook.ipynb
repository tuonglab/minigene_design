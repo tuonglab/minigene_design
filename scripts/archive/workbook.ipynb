{
 "cells": [
  {
   "cell_type": "code",
   "execution_count": 1,
   "metadata": {},
   "outputs": [],
   "source": [
    "import os\n",
    "\n",
    "os.chdir(\"/scratch/project/tcr_neoantigen/scripts\")\n",
    "\n",
    "from pathlib import Path\n",
    "from pyfaidx import Fasta\n",
    "\n",
    "from _utils import (\n",
    "    read_and_filter,\n",
    "    create_result_list,\n",
    "    extract_result,\n",
    "    extract_exon_info,\n",
    "    filter_exon_pos,\n",
    "    generate_windows,\n",
    "    get_sequences_insertion,\n",
    "    complementary_sequence,\n",
    "    reverse_complement,\n",
    "    flanking_lower_positions,\n",
    "    # print_windows,\n",
    ")\n",
    "\n",
    "# define head paths\n",
    "HG38FOLDER = Path(\"/scratch/project/tcr_neoantigen/resources/references/hg38\")\n",
    "INPUTFOLDER = Path(\n",
    "    \"/scratch/project/tcr_neoantigen/results/cSCC_BC_seq_data_10_patients/nextNEOpi\"\n",
    ")"
   ]
  },
  {
   "cell_type": "code",
   "execution_count": 2,
   "metadata": {},
   "outputs": [],
   "source": [
    "# import reference and data\n",
    "fasta_file = HG38FOLDER / \"gdc\" / \"GRCh38.d1.vd1\" / \"fasta\" / \"GRCh38.d1.vd1.fa\"\n",
    "gtf_file = HG38FOLDER / \"annotation\" / \"gencode.v33.primary_assembly.annotation.gtf\"\n",
    "refgen = Fasta(filename=fasta_file)\n",
    "exon_info = extract_exon_info(gtf_file)"
   ]
  },
  {
   "cell_type": "code",
   "execution_count": 3,
   "metadata": {},
   "outputs": [],
   "source": [
    "samples = [\n",
    "    # \"2020135\",\n",
    "    # \"2020239_WO1\",\n",
    "    # \"2020246_NO1\",\n",
    "    # \"2020260_WO1\",\n",
    "    # \"2020281_WO1\",\n",
    "    # \"2021111_MO1\",\n",
    "    \"DES001\",\n",
    "    # \"DES002\",\n",
    "    # \"DES002_001\",\n",
    "    # \"DES002_002\",\n",
    "    # \"DES010\",\n",
    "]"
   ]
  },
  {
   "cell_type": "code",
   "execution_count": 4,
   "metadata": {},
   "outputs": [
    {
     "name": "stdout",
     "output_type": "stream",
     "text": [
      "DES001 (4164, 91)\n",
      "DES001 ['SNV' 'substitution' 'deletion' 'insertion']\n"
     ]
    }
   ],
   "source": [
    "results = {}\n",
    "for sample in samples:\n",
    "    file_input_path = (\n",
    "        INPUTFOLDER\n",
    "        / sample\n",
    "        / \"analyses\"\n",
    "        / sample\n",
    "        / \"05_vep\"\n",
    "        / \"tables\"\n",
    "        / \"high_confidence\"\n",
    "        / f\"{sample}_hc_vep.txt\"\n",
    "    )\n",
    "    results[sample] = read_and_filter(file_input_path)\n",
    "\n",
    "for sample in samples:\n",
    "    print(sample, results[sample].shape)\n",
    "\n",
    "for sample in samples:\n",
    "    print(sample, results[sample].VARIANT_CLASS.unique())"
   ]
  },
  {
   "cell_type": "code",
   "execution_count": 5,
   "metadata": {},
   "outputs": [],
   "source": [
    "df = results[\"DES001\"].copy()"
   ]
  },
  {
   "cell_type": "code",
   "execution_count": 6,
   "metadata": {},
   "outputs": [],
   "source": [
    "mut_dict = create_result_list(df)"
   ]
  },
  {
   "cell_type": "code",
   "execution_count": 7,
   "metadata": {},
   "outputs": [
    {
     "data": {
      "text/plain": [
       "[2670, 2694, 2722, 3923]"
      ]
     },
     "execution_count": 7,
     "metadata": {},
     "output_type": "execute_result"
    }
   ],
   "source": [
    "from _utils import find\n",
    "\n",
    "find(mut_dict[\"variant_class\"], \"insertion\")"
   ]
  },
  {
   "cell_type": "code",
   "execution_count": 40,
   "metadata": {},
   "outputs": [
    {
     "data": {
      "text/plain": [
       "[59,\n",
       " 464,\n",
       " 662,\n",
       " 927,\n",
       " 1061,\n",
       " 1243,\n",
       " 1959,\n",
       " 2020,\n",
       " 2323,\n",
       " 2332,\n",
       " 2333,\n",
       " 2334,\n",
       " 2568,\n",
       " 2687,\n",
       " 3110,\n",
       " 3197,\n",
       " 3262]"
      ]
     },
     "execution_count": 40,
     "metadata": {},
     "output_type": "execute_result"
    }
   ],
   "source": [
    "find(mut_dict[\"variant_class\"], \"deletion\")"
   ]
  },
  {
   "cell_type": "code",
   "execution_count": 9,
   "metadata": {},
   "outputs": [],
   "source": [
    "# find(mut_dict[\"variant_class\"], \"substitution\")"
   ]
  },
  {
   "cell_type": "code",
   "execution_count": 15,
   "metadata": {},
   "outputs": [
    {
     "name": "stdout",
     "output_type": "stream",
     "text": [
      "{'reference': '-', 'variant': 'GCC', 'amino_acid_ref': 'L', 'amino_acid_var': 'LP', 'codon_ref': 'ctg', 'codon_var': 'ctGCCg', 'chromosome': 'chr12', 'mutation_location': 131828568, 'mutation_location2': 131828569, 'variant_class': 'insertion', 'gene_id': 'ENSG00000198598', 'protein_id': 'ENSP00000353767', 'transcript_id': 'ENST00000360564', 'gene_symbol': 'MMP17', 'strand': '1'}\n",
      "{'reference': '-', 'variant': 'G', 'amino_acid_ref': 'S', 'amino_acid_var': 'SX', 'codon_ref': 'tca', 'codon_var': 'tcGa', 'chromosome': 'chr13', 'mutation_location': 32379450, 'mutation_location2': 32379451, 'variant_class': 'insertion', 'gene_id': 'ENSG00000139618', 'protein_id': 'ENSP00000369497', 'transcript_id': 'ENST00000380152', 'gene_symbol': 'BRCA2', 'strand': '1'}\n",
      "{'reference': '-', 'variant': 'GC', 'amino_acid_ref': '-', 'amino_acid_var': 'X', 'codon_ref': '-', 'codon_var': 'GC', 'chromosome': 'chr13', 'mutation_location': 52844775, 'mutation_location2': 52844776, 'variant_class': 'insertion', 'gene_id': 'ENSG00000136099', 'protein_id': 'ENSP00000341350', 'transcript_id': 'ENST00000338862', 'gene_symbol': 'PCDH8', 'strand': '-1'}\n",
      "{'reference': '-', 'variant': 'T', 'amino_acid_ref': '-', 'amino_acid_var': 'X', 'codon_ref': '-', 'codon_var': 'A', 'chromosome': 'chr21', 'mutation_location': 18332171, 'mutation_location2': 18332172, 'variant_class': 'insertion', 'gene_id': 'ENSG00000154646', 'protein_id': 'ENSP00000284885', 'transcript_id': 'ENST00000284885', 'gene_symbol': 'TMPRSS15', 'strand': '-1'}\n"
     ]
    }
   ],
   "source": [
    "for mut in [2670, 2694, 2722, 3923]:\n",
    "    print(extract_result(mut_dict, mut))"
   ]
  },
  {
   "cell_type": "code",
   "execution_count": 41,
   "metadata": {},
   "outputs": [
    {
     "data": {
      "text/plain": [
       "{'reference': 'AAA',\n",
       " 'variant': '-',\n",
       " 'amino_acid_ref': 'IY',\n",
       " 'amino_acid_var': 'N',\n",
       " 'codon_ref': 'aTTTat',\n",
       " 'codon_var': 'aat',\n",
       " 'chromosome': 'chr1',\n",
       " 'mutation_location': 19155665,\n",
       " 'mutation_location2': 19155667,\n",
       " 'variant_class': 'deletion',\n",
       " 'gene_id': 'ENSG00000127481',\n",
       " 'protein_id': 'ENSP00000364403',\n",
       " 'transcript_id': 'ENST00000375254',\n",
       " 'gene_symbol': 'UBR4',\n",
       " 'strand': '-1'}"
      ]
     },
     "execution_count": 41,
     "metadata": {},
     "output_type": "execute_result"
    }
   ],
   "source": [
    "extract_result(mut_dict, 59)"
   ]
  },
  {
   "cell_type": "code",
   "execution_count": 17,
   "metadata": {},
   "outputs": [
    {
     "data": {
      "text/plain": [
       "{'reference': '-',\n",
       " 'variant': 'G',\n",
       " 'amino_acid_ref': 'S',\n",
       " 'amino_acid_var': 'SX',\n",
       " 'codon_ref': 'tca',\n",
       " 'codon_var': 'tcGa',\n",
       " 'chromosome': 'chr13',\n",
       " 'mutation_location': 32379450,\n",
       " 'mutation_location2': 32379451,\n",
       " 'variant_class': 'insertion',\n",
       " 'gene_id': 'ENSG00000139618',\n",
       " 'protein_id': 'ENSP00000369497',\n",
       " 'transcript_id': 'ENST00000380152',\n",
       " 'gene_symbol': 'BRCA2',\n",
       " 'strand': '1'}"
      ]
     },
     "execution_count": 17,
     "metadata": {},
     "output_type": "execute_result"
    }
   ],
   "source": [
    "mut_info = extract_result(mut_dict, 2694)\n",
    "mut_info"
   ]
  },
  {
   "cell_type": "code",
   "execution_count": 18,
   "metadata": {},
   "outputs": [
    {
     "ename": "AssertionError",
     "evalue": "",
     "output_type": "error",
     "traceback": [
      "\u001b[0;31m---------------------------------------------------------------------------\u001b[0m",
      "\u001b[0;31mAssertionError\u001b[0m                            Traceback (most recent call last)",
      "Cell \u001b[0;32mIn[18], line 1\u001b[0m\n\u001b[0;32m----> 1\u001b[0m ref_seqs, var_seqs \u001b[38;5;241m=\u001b[39m \u001b[43mget_sequences_insertion\u001b[49m\u001b[43m(\u001b[49m\n\u001b[1;32m      2\u001b[0m \u001b[43m    \u001b[49m\u001b[43mmut_info\u001b[49m\u001b[38;5;241;43m=\u001b[39;49m\u001b[43mmut_info\u001b[49m\u001b[43m,\u001b[49m\n\u001b[1;32m      3\u001b[0m \u001b[43m    \u001b[49m\u001b[43mexon_info\u001b[49m\u001b[38;5;241;43m=\u001b[39;49m\u001b[43mexon_info\u001b[49m\u001b[43m,\u001b[49m\n\u001b[1;32m      4\u001b[0m \u001b[43m    \u001b[49m\u001b[43mfasta\u001b[49m\u001b[38;5;241;43m=\u001b[39;49m\u001b[43mrefgen\u001b[49m\u001b[43m,\u001b[49m\n\u001b[1;32m      5\u001b[0m \u001b[43m)\u001b[49m\n",
      "File \u001b[0;32m/scratch/project_mnt/S0142/scripts/_utils.py:561\u001b[0m, in \u001b[0;36mget_sequences_insertion\u001b[0;34m(mut_info, exon_info, fasta)\u001b[0m\n\u001b[1;32m    559\u001b[0m     right_flank_var \u001b[38;5;241m=\u001b[39m fasta\u001b[38;5;241m.\u001b[39mget_seq(chrom, mut \u001b[38;5;241m+\u001b[39m \u001b[38;5;241m1\u001b[39m, end_seq_loc_var)\n\u001b[1;32m    560\u001b[0m var_seq1 \u001b[38;5;241m=\u001b[39m \u001b[38;5;28mstr\u001b[39m(left_flank) \u001b[38;5;241m+\u001b[39m middle_var \u001b[38;5;241m+\u001b[39m \u001b[38;5;28mstr\u001b[39m(right_flank_var)\n\u001b[0;32m--> 561\u001b[0m \u001b[38;5;28;01massert\u001b[39;00m \u001b[38;5;28mlen\u001b[39m(var_seq1) \u001b[38;5;241m==\u001b[39m \u001b[38;5;241m93\u001b[39m\n\u001b[1;32m    562\u001b[0m \u001b[38;5;28;01mif\u001b[39;00m strand \u001b[38;5;241m==\u001b[39m \u001b[38;5;124m\"\u001b[39m\u001b[38;5;124m-1\u001b[39m\u001b[38;5;124m\"\u001b[39m:\n\u001b[1;32m    563\u001b[0m     var_seq_dict[prot_id][\u001b[38;5;241m0\u001b[39m]\u001b[38;5;241m.\u001b[39mappend(complementary_sequence(var_seq1))\n",
      "\u001b[0;31mAssertionError\u001b[0m: "
     ]
    }
   ],
   "source": [
    "ref_seqs, var_seqs = get_sequences_insertion(\n",
    "    mut_info=mut_info,\n",
    "    exon_info=exon_info,\n",
    "    fasta=refgen,\n",
    ")"
   ]
  },
  {
   "cell_type": "code",
   "execution_count": 31,
   "metadata": {},
   "outputs": [],
   "source": [
    "(\n",
    "    # ref,\n",
    "    var,\n",
    "    # aa_ref,\n",
    "    # aa_var,\n",
    "    codon_ref,\n",
    "    # codon_var,\n",
    "    chrom,\n",
    "    mut,\n",
    "    mut2,\n",
    "    # var_class,\n",
    "    gene,\n",
    "    # protein,\n",
    "    # transcript,\n",
    "    # gene_name,\n",
    "    strand,\n",
    ") = (\n",
    "    # mut_info[\"reference\"],\n",
    "    mut_info[\"variant\"],\n",
    "    # mut_info[\"amino_acid_ref\"],\n",
    "    # mut_info[\"amino_acid_var\"],\n",
    "    mut_info[\"codon_ref\"],\n",
    "    # mut_info[\"codon_var\"],\n",
    "    mut_info[\"chromosome\"],\n",
    "    mut_info[\"mutation_location\"],\n",
    "    mut_info[\"mutation_location2\"],\n",
    "    # mut_info[\"variant_class\"],\n",
    "    mut_info[\"gene_id\"],\n",
    "    # mut_info[\"protein_id\"],\n",
    "    # mut_info[\"transcript_id\"],\n",
    "    # mut_info[\"gene_symbol\"],\n",
    "    mut_info[\"strand\"],\n",
    ")\n",
    "filtered_exon_pos = filter_exon_pos(exon_info[gene], mut, mut_info)\n",
    "ref_seq_dict, var_seq_dict = {}, {}\n",
    "\n",
    "if codon_ref == \"-\":\n",
    "    # for prot_id in filtered_exon_pos:\n",
    "    #     ref_seq_dict[prot_id], var_seq_dict[prot_id] = {}, {}\n",
    "    #     for i, mutx in enumerate([mut, mut2]):\n",
    "    #         ref_seq_dict[prot_id][i], var_seq_dict[prot_id][i] = defaultdict(\n",
    "    #             list\n",
    "    #         ), defaultdict(list)\n",
    "    #         exon_start_diff = mutx - filtered_exon_pos[prot_id][0][0]\n",
    "    #         if exon_start_diff >= 47:\n",
    "    #             left_frames = [45, 46, 47]\n",
    "    #             frame_dict = {\n",
    "    #                 45: 45,\n",
    "    #                 46: 44,\n",
    "    #                 47: 43,\n",
    "    #             }\n",
    "    #         else:\n",
    "    #             left_frames = [\n",
    "    #                 exon_start_diff,\n",
    "    #                 exon_start_diff + 1,\n",
    "    #                 exon_start_diff + 2,\n",
    "    #             ]\n",
    "    #             frame_dict = {\n",
    "    #                 exon_start_diff: 90 - exon_start_diff,\n",
    "    #                 exon_start_diff + 1: 90 - exon_start_diff - 1,\n",
    "    #                 exon_start_diff + 2: 90 - exon_start_diff - 2,\n",
    "    #             }\n",
    "#             for j, left_frame in enumerate(left_frames):\n",
    "#                 # left side\n",
    "#                 start_seq_loc = mutx - left_frame - 1\n",
    "#                 left_flank = fasta.get_seq(\n",
    "#                     chrom,\n",
    "#                     start_seq_loc,\n",
    "#                     mutx,\n",
    "#                 )\n",
    "#                 # middle\n",
    "#                 middle_ref = \"\"\n",
    "#                 middle_var = var\n",
    "#                 # right side for reference\n",
    "#                 end_seq_loc_ref = (\n",
    "#                     mutx + frame_dict[left_frame]\n",
    "#                 )  # because the location of the mutation counts as 1\n",
    "#                 exon_end_diff_ref = filtered_exon_pos[prot_id][0][1] - end_seq_loc_ref\n",
    "#                 if exon_end_diff_ref < 0:\n",
    "#                     right_flank_ref = \"\"\n",
    "#                     exon_end_diff_ref = (\n",
    "#                         filtered_exon_pos[prot_id][0][1] - mutx + 1\n",
    "#                     )  # + 1 for the mutation location itself\n",
    "#                     end_seq_loc_ref_right_exon = (\n",
    "#                         filtered_exon_pos[prot_id][1][0]\n",
    "#                         + frame_dict[left_frame]\n",
    "#                         - exon_end_diff_ref\n",
    "#                     )\n",
    "#                     flank_half1 = fasta.get_seq(\n",
    "#                         chrom, mutx, filtered_exon_pos[prot_id][0][1]\n",
    "#                     )\n",
    "#                     flank_half2 = fasta.get_seq(\n",
    "#                         chrom,\n",
    "#                         filtered_exon_pos[prot_id][1][0],\n",
    "#                         end_seq_loc_ref_right_exon,\n",
    "#                     )\n",
    "#                     for half in [flank_half1, flank_half2]:\n",
    "#                         right_flank_ref += str(half)\n",
    "#                 else:\n",
    "#                     right_flank_ref = fasta.get_seq(chrom, mutx, end_seq_loc_ref)\n",
    "#                 ref_seq1 = str(left_flank) + middle_ref + str(right_flank_ref)\n",
    "#                 assert len(ref_seq1) == 93\n",
    "#                 if strand == \"-1\":\n",
    "#                     ref_seq_dict[prot_id][i][j].append(complementary_sequence(ref_seq1))\n",
    "#                 else:\n",
    "#                     ref_seq_dict[prot_id][i][j].append(ref_seq1)\n",
    "#                 # right side for variant\n",
    "#                 end_seq_loc_var = mutx + (\n",
    "#                     frame_dict[left_frame] - len(var)\n",
    "#                 )  # this is the pad\n",
    "#                 exon_end_diff_var = filtered_exon_pos[prot_id][0][1] - end_seq_loc_var\n",
    "#                 if exon_end_diff_var < 0:\n",
    "#                     right_flank_var = \"\"\n",
    "#                     exon_end_diff_var = (\n",
    "#                         filtered_exon_pos[prot_id][0][1] - mutx + len(var)\n",
    "#                     )  # + 1 for the mutation start location\n",
    "#                     end_seq_loc_var_right_exon = (\n",
    "#                         filtered_exon_pos[prot_id][1][0]\n",
    "#                         + frame_dict[left_frame]\n",
    "#                         - exon_end_diff_var\n",
    "#                     )\n",
    "#                     flank_half1 = fasta.get_seq(\n",
    "#                         chrom, mutx, filtered_exon_pos[prot_id][0][1]\n",
    "#                     )\n",
    "#                     flank_half2 = fasta.get_seq(\n",
    "#                         chrom,\n",
    "#                         filtered_exon_pos[prot_id][1][0],\n",
    "#                         end_seq_loc_var_right_exon - len(var),\n",
    "#                     )\n",
    "#                     for half in [flank_half1, flank_half2]:\n",
    "#                         right_flank_var += str(half)\n",
    "#                 else:\n",
    "#                     right_flank_var = fasta.get_seq(chrom, mutx, end_seq_loc_var)\n",
    "#                 var_seq1 = str(left_flank) + middle_var + str(right_flank_var)\n",
    "#                 assert len(var_seq1) == 93\n",
    "#                 if strand == \"-1\":\n",
    "#                     var_seq_dict[prot_id][i][j].append(complementary_sequence(var_seq1))\n",
    "#                 else:\n",
    "#                     var_seq_dict[prot_id][i][j].append(var_seq1)\n",
    "#                 # get right hang\n",
    "#                 overlap_ref = get_right_hang(\n",
    "#                     first_seq=ref_seq1,\n",
    "#                     chrom=chrom,\n",
    "#                     prot_id=prot_id,\n",
    "#                     first_seq_end_loc=end_seq_loc_ref,\n",
    "#                     filtered_exon_pos=filtered_exon_pos,\n",
    "#                     fasta=fasta,\n",
    "#                 )\n",
    "#                 overlap_var = get_right_hang(\n",
    "#                     first_seq=var_seq1,\n",
    "#                     chrom=chrom,\n",
    "#                     prot_id=prot_id,\n",
    "#                     first_seq_end_loc=end_seq_loc_var,\n",
    "#                     filtered_exon_pos=filtered_exon_pos,\n",
    "#                     fasta=fasta,\n",
    "#                 )\n",
    "#                 if strand == \"-1\":\n",
    "#                     overlap_ref = [complementary_sequence(s) for s in overlap_ref]\n",
    "#                     overlap_var = [complementary_sequence(s) for s in overlap_var]\n",
    "#                 ref_seq_dict[prot_id][i][j] += overlap_ref\n",
    "#                 var_seq_dict[prot_id][i][j] += overlap_var\n",
    "# else:\n",
    "#     # this is now corect but should we add in a codon check?\n",
    "#     for prot_id in filtered_exon_pos:\n",
    "#         ref_seq_dict[prot_id], var_seq_dict[prot_id] = defaultdict(list), defaultdict(\n",
    "#             list\n",
    "#         )\n",
    "#         exon_start_diff = mut - filtered_exon_pos[prot_id][0][0]\n",
    "#         if exon_start_diff >= 47:\n",
    "#             left_frame = 45\n",
    "#             left_shifted = False\n",
    "#         else:\n",
    "#             left_frame = exon_start_diff\n",
    "#             left_shifted = True\n",
    "#         # left side\n",
    "#         start_seq_loc = mut - left_frame + 1\n",
    "#         left_flank = fasta.get_seq(\n",
    "#             chrom,\n",
    "#             start_seq_loc,\n",
    "#             mut,\n",
    "#         )\n",
    "#         # check the last 3 sequence to ensure that it's the same as codon_ref\n",
    "#         check_left = (\n",
    "#             reverse_complement(str(left_flank[-3:]))\n",
    "#             if strand == \"-1\"\n",
    "#             else str(left_flank[-3:])\n",
    "#         )\n",
    "#         while check_left != codon_ref.upper():\n",
    "#             left_frame -= 1\n",
    "#             start_seq_loc = mut - left_frame + 1\n",
    "#             left_flank = fasta.get_seq(\n",
    "#                 chrom,\n",
    "#                 start_seq_loc,\n",
    "#                 mut,\n",
    "#             )\n",
    "#             if left_shifted:\n",
    "#                 if left_frame < 42:\n",
    "#                     break\n",
    "#             else:\n",
    "#                 if left_frame < exon_start_diff - 3:\n",
    "#                     break\n",
    "#         frame_shift_pad = 45 - left_frame\n",
    "#         # middle\n",
    "#         middle_ref = \"\"\n",
    "#         # right side for reference\n",
    "#         end_seq_loc_ref = mut + RIGHT_FRAME + frame_shift_pad\n",
    "#         exon_end_diff_ref = filtered_exon_pos[prot_id][0][1] - end_seq_loc_ref\n",
    "#         if exon_end_diff_ref < 0:\n",
    "#             right_flank_ref = \"\"\n",
    "#             exon_end_diff_ref = (\n",
    "#                 filtered_exon_pos[prot_id][0][1] - mut + 1\n",
    "#             )  # + 1 for the mutation location itself\n",
    "#             end_seq_loc_ref_right_exon = (\n",
    "#                 filtered_exon_pos[prot_id][1][0]\n",
    "#                 + RIGHT_FRAME\n",
    "#                 + frame_shift_pad\n",
    "#                 - exon_end_diff_ref\n",
    "#                 + 1\n",
    "#             )\n",
    "#             flank_half1 = fasta.get_seq(chrom, mut, filtered_exon_pos[prot_id][0][1])\n",
    "#             flank_half2 = fasta.get_seq(\n",
    "#                 chrom,\n",
    "#                 filtered_exon_pos[prot_id][1][0],\n",
    "#                 end_seq_loc_ref_right_exon,\n",
    "#             )\n",
    "#             for half in [flank_half1, flank_half2]:\n",
    "#                 right_flank_ref += str(half)\n",
    "#         else:\n",
    "#             right_flank_ref = fasta.get_seq(chrom, mut + 1, end_seq_loc_ref)\n",
    "#         ref_seq1 = str(left_flank) + middle_ref + str(right_flank_ref)\n",
    "#         assert len(ref_seq1) == 93\n",
    "#         if strand == \"-1\":\n",
    "#             ref_seq_dict[prot_id][0].append(complementary_sequence(ref_seq1))\n",
    "#         else:\n",
    "#             ref_seq_dict[prot_id][0].append(ref_seq1)\n",
    "#         middle_var = var\n",
    "#         # right side for variant\n",
    "#         end_seq_loc_var = mut + (RIGHT_FRAME - len(var) + 3) + 1  # this is the pad\n",
    "#         exon_end_diff_var = filtered_exon_pos[prot_id][0][1] - end_seq_loc_var\n",
    "#         if exon_end_diff_var < 0:\n",
    "#             right_flank_var = \"\"\n",
    "#             exon_end_diff_var = (\n",
    "#                 filtered_exon_pos[prot_id][0][1] - mut + len(var)\n",
    "#             )  # + 1 for the mutation start location\n",
    "#             end_seq_loc_var_right_exon = (\n",
    "#                 filtered_exon_pos[prot_id][1][0] + RIGHT_FRAME - exon_end_diff_var\n",
    "#             )\n",
    "#             flank_half1 = fasta.get_seq(chrom, mut, filtered_exon_pos[prot_id][0][1])\n",
    "#             flank_half2 = fasta.get_seq(\n",
    "#                 chrom,\n",
    "#                 filtered_exon_pos[prot_id][1][0],\n",
    "#                 end_seq_loc_var_right_exon - len(var),\n",
    "#             )\n",
    "#             for half in [flank_half1, flank_half2]:\n",
    "#                 right_flank_var += str(half)\n",
    "#         else:\n",
    "#             right_flank_var = fasta.get_seq(chrom, mut + 1, end_seq_loc_var)\n",
    "#         var_seq1 = str(left_flank) + middle_var + str(right_flank_var)\n",
    "#         assert len(var_seq1) == 93\n",
    "#         if strand == \"-1\":\n",
    "#             var_seq_dict[prot_id][0].append(complementary_sequence(var_seq1))\n",
    "#         else:\n",
    "#             var_seq_dict[prot_id][0].append(var_seq1)\n",
    "#         # get right hang\n",
    "#         overlap_ref = get_right_hang(\n",
    "#             first_seq=ref_seq1,\n",
    "#             chrom=chrom,\n",
    "#             prot_id=prot_id,\n",
    "#             first_seq_end_loc=end_seq_loc_ref,\n",
    "#             filtered_exon_pos=filtered_exon_pos,\n",
    "#             fasta=fasta,\n",
    "#         )\n",
    "#         overlap_var = get_right_hang(\n",
    "#             first_seq=var_seq1,\n",
    "#             chrom=chrom,\n",
    "#             prot_id=prot_id,\n",
    "#             first_seq_end_loc=end_seq_loc_var,\n",
    "#             filtered_exon_pos=filtered_exon_pos,\n",
    "#             fasta=fasta,\n",
    "#         )\n",
    "#         if strand == \"-1\":\n",
    "#             overlap_ref = [complementary_sequence(s) for s in overlap_ref]\n",
    "#             overlap_var = [complementary_sequence(s) for s in overlap_var]\n",
    "#         ref_seq_dict[prot_id][0] += overlap_ref\n",
    "#         var_seq_dict[prot_id][0] += overlap_var"
   ]
  },
  {
   "cell_type": "code",
   "execution_count": 38,
   "metadata": {},
   "outputs": [
    {
     "data": {
      "text/plain": [
       "defaultdict(list,\n",
       "            {'ENSP00000369497.3': [(32379317, 32379515),\n",
       "              (32379750, 32379913),\n",
       "              (32380007, 32380145),\n",
       "              (32394689, 32394933),\n",
       "              (32396898, 32397044),\n",
       "              (32398162, 32400266)]})"
      ]
     },
     "execution_count": 38,
     "metadata": {},
     "output_type": "execute_result"
    }
   ],
   "source": [
    "filtered_exon_pos"
   ]
  },
  {
   "cell_type": "code",
   "execution_count": 39,
   "metadata": {},
   "outputs": [
    {
     "data": {
      "text/plain": [
       "False"
      ]
     },
     "execution_count": 39,
     "metadata": {},
     "output_type": "execute_result"
    }
   ],
   "source": [
    "codon_ref == \"-\""
   ]
  },
  {
   "cell_type": "code",
   "execution_count": 34,
   "metadata": {},
   "outputs": [
    {
     "data": {
      "text/plain": [
       "32379450"
      ]
     },
     "execution_count": 34,
     "metadata": {},
     "output_type": "execute_result"
    }
   ],
   "source": [
    "mut"
   ]
  },
  {
   "cell_type": "code",
   "execution_count": 35,
   "metadata": {},
   "outputs": [
    {
     "data": {
      "text/plain": [
       "32379451"
      ]
     },
     "execution_count": 35,
     "metadata": {},
     "output_type": "execute_result"
    }
   ],
   "source": [
    "mut2"
   ]
  },
  {
   "cell_type": "code",
   "execution_count": 33,
   "metadata": {},
   "outputs": [
    {
     "ename": "NameError",
     "evalue": "name 'frame_dict' is not defined",
     "output_type": "error",
     "traceback": [
      "\u001b[0;31m---------------------------------------------------------------------------\u001b[0m",
      "\u001b[0;31mNameError\u001b[0m                                 Traceback (most recent call last)",
      "Cell \u001b[0;32mIn[33], line 1\u001b[0m\n\u001b[0;32m----> 1\u001b[0m \u001b[43mframe_dict\u001b[49m\n",
      "\u001b[0;31mNameError\u001b[0m: name 'frame_dict' is not defined"
     ]
    }
   ],
   "source": [
    "frame_dict"
   ]
  },
  {
   "cell_type": "code",
   "execution_count": 24,
   "metadata": {},
   "outputs": [
    {
     "data": {
      "text/plain": [
       "133"
      ]
     },
     "execution_count": 24,
     "metadata": {},
     "output_type": "execute_result"
    }
   ],
   "source": [
    "exon_start_diff"
   ]
  },
  {
   "cell_type": "code",
   "execution_count": 22,
   "metadata": {},
   "outputs": [
    {
     "data": {
      "text/plain": [
       "96"
      ]
     },
     "execution_count": 22,
     "metadata": {},
     "output_type": "execute_result"
    }
   ],
   "source": [
    "len(var_seq1)"
   ]
  },
  {
   "cell_type": "code",
   "execution_count": null,
   "metadata": {},
   "outputs": [],
   "source": []
  },
  {
   "cell_type": "code",
   "execution_count": 16,
   "metadata": {},
   "outputs": [
    {
     "ename": "NameError",
     "evalue": "name 'left_flank' is not defined",
     "output_type": "error",
     "traceback": [
      "\u001b[0;31m---------------------------------------------------------------------------\u001b[0m",
      "\u001b[0;31mNameError\u001b[0m                                 Traceback (most recent call last)",
      "Cell \u001b[0;32mIn[16], line 216\u001b[0m\n\u001b[1;32m    207\u001b[0m start_seq_loc \u001b[38;5;241m-\u001b[39m\u001b[38;5;241m=\u001b[39m pad_left\n\u001b[1;32m    208\u001b[0m left_flank_ref \u001b[38;5;241m=\u001b[39m fasta\u001b[38;5;241m.\u001b[39mget_seq(\n\u001b[1;32m    209\u001b[0m     chrom,\n\u001b[1;32m    210\u001b[0m     start_seq_loc,\n\u001b[1;32m    211\u001b[0m     mut2 \u001b[38;5;241m+\u001b[39m pad_right,\n\u001b[1;32m    212\u001b[0m )\n\u001b[1;32m    213\u001b[0m check_left \u001b[38;5;241m=\u001b[39m (\n\u001b[1;32m    214\u001b[0m     reverse_complement(\u001b[38;5;28mstr\u001b[39m(left_flank[\u001b[38;5;241m-\u001b[39m\u001b[38;5;28mlen\u001b[39m(codon_ref) :]))\n\u001b[1;32m    215\u001b[0m     \u001b[38;5;28;01mif\u001b[39;00m strand \u001b[38;5;241m==\u001b[39m \u001b[38;5;124m\"\u001b[39m\u001b[38;5;124m-1\u001b[39m\u001b[38;5;124m\"\u001b[39m\n\u001b[0;32m--> 216\u001b[0m     \u001b[38;5;28;01melse\u001b[39;00m \u001b[38;5;28mstr\u001b[39m(\u001b[43mleft_flank\u001b[49m[\u001b[38;5;241m-\u001b[39m\u001b[38;5;28mlen\u001b[39m(codon_ref) :])\n\u001b[1;32m    217\u001b[0m )\n\u001b[1;32m    218\u001b[0m \u001b[38;5;28;01mwhile\u001b[39;00m check_left \u001b[38;5;241m!=\u001b[39m codon_ref\u001b[38;5;241m.\u001b[39mupper():\n\u001b[1;32m    219\u001b[0m     left_frame \u001b[38;5;241m-\u001b[39m\u001b[38;5;241m=\u001b[39m \u001b[38;5;241m1\u001b[39m\n",
      "\u001b[0;31mNameError\u001b[0m: name 'left_flank' is not defined"
     ]
    }
   ],
   "source": [
    "# def get_sequences_deletion(\n",
    "#     mut_info,\n",
    "#     exon_info,\n",
    "#     fasta,\n",
    "# ):\n",
    "from collections import defaultdict\n",
    "\n",
    "RIGHT_FRAME = 48\n",
    "(\n",
    "    # ref,\n",
    "    var,\n",
    "    # aa_ref,\n",
    "    # aa_var,\n",
    "    codon_ref,\n",
    "    # codon_var,\n",
    "    chrom,\n",
    "    mut,\n",
    "    mut2,\n",
    "    # var_class,\n",
    "    gene,\n",
    "    # protein,\n",
    "    # transcript,\n",
    "    # gene_name,\n",
    "    strand,\n",
    ") = (\n",
    "    # mut_info[\"reference\"],\n",
    "    mut_info[\"variant\"],\n",
    "    # mut_info[\"amino_acid_ref\"],\n",
    "    # mut_info[\"amino_acid_var\"],\n",
    "    mut_info[\"codon_ref\"],\n",
    "    # mut_info[\"codon_var\"],\n",
    "    mut_info[\"chromosome\"],\n",
    "    mut_info[\"mutation_location\"],\n",
    "    mut_info[\"mutation_location2\"],\n",
    "    # mut_info[\"variant_class\"],\n",
    "    mut_info[\"gene_id\"],\n",
    "    # mut_info[\"protein_id\"],\n",
    "    # mut_info[\"transcript_id\"],\n",
    "    # mut_info[\"gene_symbol\"],\n",
    "    mut_info[\"strand\"],\n",
    ")\n",
    "fasta = refgen\n",
    "filtered_exon_pos = filter_exon_pos(exon_info[gene], mut, mut_info)\n",
    "ref_seq_dict, var_seq_dict = {}, {}\n",
    "# This loop only works if codon is unknown. So the goal is to create 3 frames and the mutation is located on the 3' end with at least 45 bp on the left\n",
    "if codon_ref == \"-\":\n",
    "    for prot_id in filtered_exon_pos:\n",
    "        ref_seq_dict[prot_id], var_seq_dict[prot_id] = {}, {}\n",
    "        for i, mutx in enumerate([mut, mut2]):\n",
    "            ref_seq_dict[prot_id][i], var_seq_dict[prot_id][i] = defaultdict(\n",
    "                list\n",
    "            ), defaultdict(list)\n",
    "            exon_start_diff = mutx - filtered_exon_pos[prot_id][0][0]\n",
    "            if exon_start_diff >= 47:\n",
    "                left_frames = [45, 46, 47]\n",
    "                frame_dict = {\n",
    "                    45: 45,\n",
    "                    46: 44,\n",
    "                    47: 43,\n",
    "                }\n",
    "            else:\n",
    "                left_frames = [\n",
    "                    exon_start_diff,\n",
    "                    exon_start_diff + 1,\n",
    "                    exon_start_diff + 2,\n",
    "                ]\n",
    "                frame_dict = {\n",
    "                    exon_start_diff: 90 - exon_start_diff,\n",
    "                    exon_start_diff + 1: 90 - exon_start_diff - 1,\n",
    "                    exon_start_diff + 2: 90 - exon_start_diff - 2,\n",
    "                }\n",
    "            for j, left_frame in enumerate(left_frames):\n",
    "                # left side\n",
    "                start_seq_loc = mutx - left_frame - 1\n",
    "                left_flank = fasta.get_seq(\n",
    "                    chrom,\n",
    "                    start_seq_loc,\n",
    "                    mutx,\n",
    "                )\n",
    "                while left_flank[-len(codon_ref) :] != codon_ref:\n",
    "                    left_frame -= 1\n",
    "                    start_seq_loc = mut - left_frame + 1\n",
    "                    left_flank = fasta.get_seq(\n",
    "                        chrom,\n",
    "                        start_seq_loc,\n",
    "                        mut,\n",
    "                    )\n",
    "                    if left_shifted:\n",
    "                        if left_frame < 42:\n",
    "                            break\n",
    "                    else:\n",
    "                        if left_frame < exon_start_diff - 3:\n",
    "                            break\n",
    "                # middle\n",
    "                middle_ref = fasta.get_seq(\n",
    "                    chrom,\n",
    "                    mut + 1,\n",
    "                    mut2,\n",
    "                )\n",
    "                middle_var = \"\"\n",
    "                # right side for reference\n",
    "                end_seq_loc_ref = (\n",
    "                    mutx + frame_dict[left_frame]\n",
    "                )  # because the location of the mutation counts as 1\n",
    "                exon_end_diff_ref = filtered_exon_pos[prot_id][0][1] - end_seq_loc_ref\n",
    "                if exon_end_diff_ref < 0:\n",
    "                    right_flank_ref = \"\"\n",
    "                    exon_end_diff_ref = (\n",
    "                        filtered_exon_pos[prot_id][0][1] - mutx + 1\n",
    "                    )  # + 1 for the mutation location itself\n",
    "                    end_seq_loc_ref_right_exon = (\n",
    "                        filtered_exon_pos[prot_id][1][0]\n",
    "                        + frame_dict[left_frame]\n",
    "                        - exon_end_diff_ref\n",
    "                    )\n",
    "                    flank_half1 = fasta.get_seq(\n",
    "                        chrom, mutx, filtered_exon_pos[prot_id][0][1]\n",
    "                    )\n",
    "                    flank_half2 = fasta.get_seq(\n",
    "                        chrom,\n",
    "                        filtered_exon_pos[prot_id][1][0],\n",
    "                        end_seq_loc_ref_right_exon,\n",
    "                    )\n",
    "                    for half in [flank_half1, flank_half2]:\n",
    "                        right_flank_ref += str(half)\n",
    "                else:\n",
    "                    right_flank_ref = fasta.get_seq(chrom, mutx, end_seq_loc_ref)\n",
    "                ref_seq1 = str(left_flank) + str(middle_ref) + str(right_flank_ref)\n",
    "                assert len(ref_seq1) == 93\n",
    "                if strand == \"-1\":\n",
    "                    ref_seq_dict[prot_id][i][j].append(complementary_sequence(ref_seq1))\n",
    "                else:\n",
    "                    ref_seq_dict[prot_id][i][j].append(ref_seq1)\n",
    "                # right side for variant\n",
    "                end_seq_loc_var = mutx + (\n",
    "                    frame_dict[left_frame] - len(var)\n",
    "                )  # this is the pad\n",
    "                exon_end_diff_var = filtered_exon_pos[prot_id][0][1] - end_seq_loc_var\n",
    "                if exon_end_diff_var < 0:\n",
    "                    right_flank_var = \"\"\n",
    "                    exon_end_diff_var = (\n",
    "                        filtered_exon_pos[prot_id][0][1] - mutx + len(var)\n",
    "                    )  # + 1 for the mutation start location\n",
    "                    end_seq_loc_var_right_exon = (\n",
    "                        filtered_exon_pos[prot_id][1][0]\n",
    "                        + frame_dict[left_frame]\n",
    "                        - exon_end_diff_var\n",
    "                    )\n",
    "                    flank_half1 = fasta.get_seq(\n",
    "                        chrom, mutx, filtered_exon_pos[prot_id][0][1]\n",
    "                    )\n",
    "                    flank_half2 = fasta.get_seq(\n",
    "                        chrom,\n",
    "                        filtered_exon_pos[prot_id][1][0],\n",
    "                        end_seq_loc_var_right_exon - len(var),\n",
    "                    )\n",
    "                    for half in [flank_half1, flank_half2]:\n",
    "                        right_flank_var += str(half)\n",
    "                else:\n",
    "                    right_flank_var = fasta.get_seq(chrom, mutx, end_seq_loc_var)\n",
    "                var_seq1 = str(left_flank) + middle_var + str(right_flank_var)\n",
    "                assert len(var_seq1) == 93\n",
    "                if strand == \"-1\":\n",
    "                    var_seq_dict[prot_id][i][j].append(complementary_sequence(var_seq1))\n",
    "                else:\n",
    "                    var_seq_dict[prot_id][i][j].append(var_seq1)\n",
    "                # get right hang\n",
    "                overlap_ref = get_right_hang(\n",
    "                    first_seq=ref_seq1,\n",
    "                    chrom=chrom,\n",
    "                    prot_id=prot_id,\n",
    "                    first_seq_end_loc=end_seq_loc_ref,\n",
    "                    filtered_exon_pos=filtered_exon_pos,\n",
    "                    fasta=fasta,\n",
    "                )\n",
    "                overlap_var = get_right_hang(\n",
    "                    first_seq=var_seq1,\n",
    "                    chrom=chrom,\n",
    "                    prot_id=prot_id,\n",
    "                    first_seq_end_loc=end_seq_loc_var,\n",
    "                    filtered_exon_pos=filtered_exon_pos,\n",
    "                    fasta=fasta,\n",
    "                )\n",
    "                if strand == \"-1\":\n",
    "                    overlap_ref = [complementary_sequence(s) for s in overlap_ref]\n",
    "                    overlap_var = [complementary_sequence(s) for s in overlap_var]\n",
    "                ref_seq_dict[prot_id][i][j] += overlap_ref\n",
    "                var_seq_dict[prot_id][i][j] += overlap_var\n",
    "else:\n",
    "    # this is now corect but should we add in a codon check?\n",
    "    for prot_id in filtered_exon_pos:\n",
    "        ref_seq_dict[prot_id], var_seq_dict[prot_id] = defaultdict(list), defaultdict(\n",
    "            list\n",
    "        )\n",
    "        exon_start_diff = mut - filtered_exon_pos[prot_id][0][0]\n",
    "        if exon_start_diff >= 47:\n",
    "            left_frame = 45\n",
    "            left_shifted = False\n",
    "        else:\n",
    "            left_frame = exon_start_diff\n",
    "            left_shifted = True\n",
    "        # left side\n",
    "        start_seq_loc = mut2 - left_frame\n",
    "        left_n, right_n = flanking_lower_positions(codon_ref)\n",
    "        pad_right = left_n if strand == \"-1\" else right_n\n",
    "        pad_left = left_n if strand == \"-1\" else right_n\n",
    "        start_seq_loc -= pad_left\n",
    "        left_flank_ref = fasta.get_seq(\n",
    "            chrom,\n",
    "            start_seq_loc,\n",
    "            mut2 + pad_right,\n",
    "        )\n",
    "        check_left = (\n",
    "            reverse_complement(str(left_flank[-len(codon_ref) :]))\n",
    "            if strand == \"-1\"\n",
    "            else str(left_flank[-len(codon_ref) :])\n",
    "        )\n",
    "        while check_left != codon_ref.upper():\n",
    "            left_frame -= 1\n",
    "            start_seq_loc = mut2 - left_frame + 1 - pad_left\n",
    "            left_flank = fasta.get_seq(\n",
    "                chrom,\n",
    "                start_seq_loc,\n",
    "                mut2 + pad_right,\n",
    "            )\n",
    "            if left_shifted:\n",
    "                if left_frame < 42:\n",
    "                    break\n",
    "            else:\n",
    "                if left_frame < exon_start_diff - 3:\n",
    "                    break\n",
    "        frame_shift_pad = 45 - left_frame\n",
    "        # check the last 3 sequence to ensure that it's the same as codon_ref\n",
    "        middle_var = \"\"\n",
    "        # right side for reference\n",
    "        end_seq_loc_ref = mut + RIGHT_FRAME + frame_shift_pad\n",
    "        exon_end_diff_ref = filtered_exon_pos[prot_id][0][1] - end_seq_loc_ref\n",
    "        if exon_end_diff_ref < 0:\n",
    "            right_flank_ref = \"\"\n",
    "            exon_end_diff_ref = (\n",
    "                filtered_exon_pos[prot_id][0][1] - mut + 1\n",
    "            )  # + 1 for the mutation location itself\n",
    "            end_seq_loc_ref_right_exon = (\n",
    "                filtered_exon_pos[prot_id][1][0]\n",
    "                + RIGHT_FRAME\n",
    "                + frame_shift_pad\n",
    "                - exon_end_diff_ref\n",
    "                + 1\n",
    "            )\n",
    "            flank_half1 = fasta.get_seq(chrom, mut, filtered_exon_pos[prot_id][0][1])\n",
    "            flank_half2 = fasta.get_seq(\n",
    "                chrom,\n",
    "                filtered_exon_pos[prot_id][1][0],\n",
    "                end_seq_loc_ref_right_exon,\n",
    "            )\n",
    "            for half in [flank_half1, flank_half2]:\n",
    "                right_flank_ref += str(half)\n",
    "        else:\n",
    "            right_flank_ref = fasta.get_seq(chrom, mut + 1, end_seq_loc_ref)\n",
    "        ref_seq1 = str(left_flank) + str(right_flank_ref)\n",
    "        assert len(ref_seq1) == 93\n",
    "        if strand == \"-1\":\n",
    "            ref_seq_dict[prot_id][0].append(complementary_sequence(ref_seq1))\n",
    "        else:\n",
    "            ref_seq_dict[prot_id][0].append(ref_seq1)\n",
    "        # right side for variant\n",
    "        end_seq_loc_var = mut + (RIGHT_FRAME - len(var) + 3) + 1  # this is the pad\n",
    "        exon_end_diff_var = filtered_exon_pos[prot_id][0][1] - end_seq_loc_var\n",
    "        if exon_end_diff_var < 0:\n",
    "            right_flank_var = \"\"\n",
    "            exon_end_diff_var = (\n",
    "                filtered_exon_pos[prot_id][0][1] - mut + len(var)\n",
    "            )  # + 1 for the mutation start location\n",
    "            end_seq_loc_var_right_exon = (\n",
    "                filtered_exon_pos[prot_id][1][0] + RIGHT_FRAME - exon_end_diff_var\n",
    "            )\n",
    "            flank_half1 = fasta.get_seq(chrom, mut, filtered_exon_pos[prot_id][0][1])\n",
    "            flank_half2 = fasta.get_seq(\n",
    "                chrom,\n",
    "                filtered_exon_pos[prot_id][1][0],\n",
    "                end_seq_loc_var_right_exon - len(var),\n",
    "            )\n",
    "            for half in [flank_half1, flank_half2]:\n",
    "                right_flank_var += str(half)\n",
    "        else:\n",
    "            right_flank_var = fasta.get_seq(chrom, mut + 1, end_seq_loc_var)\n",
    "        var_seq1 = str(left_flank) + middle_var + str(right_flank_var)\n",
    "        assert len(var_seq1) == 93\n",
    "        if strand == \"-1\":\n",
    "            var_seq_dict[prot_id][0].append(complementary_sequence(var_seq1))\n",
    "        else:\n",
    "            var_seq_dict[prot_id][0].append(var_seq1)\n",
    "        # get right hang\n",
    "        overlap_ref = get_right_hang(\n",
    "            first_seq=ref_seq1,\n",
    "            chrom=chrom,\n",
    "            prot_id=prot_id,\n",
    "            first_seq_end_loc=end_seq_loc_ref,\n",
    "            filtered_exon_pos=filtered_exon_pos,\n",
    "            fasta=fasta,\n",
    "        )\n",
    "        overlap_var = get_right_hang(\n",
    "            first_seq=var_seq1,\n",
    "            chrom=chrom,\n",
    "            prot_id=prot_id,\n",
    "            first_seq_end_loc=end_seq_loc_var,\n",
    "            filtered_exon_pos=filtered_exon_pos,\n",
    "            fasta=fasta,\n",
    "        )\n",
    "        if strand == \"-1\":\n",
    "            overlap_ref = [complementary_sequence(s) for s in overlap_ref]\n",
    "            overlap_var = [complementary_sequence(s) for s in overlap_var]\n",
    "        ref_seq_dict[prot_id][0] += overlap_ref\n",
    "        var_seq_dict[prot_id][0] += overlap_var\n",
    "    # return ref_seq_dict, var_seq_dict"
   ]
  },
  {
   "cell_type": "code",
   "execution_count": 25,
   "metadata": {},
   "outputs": [
    {
     "data": {
      "text/plain": [
       "48"
      ]
     },
     "execution_count": 25,
     "metadata": {},
     "output_type": "execute_result"
    }
   ],
   "source": [
    "len(left_flank)"
   ]
  },
  {
   "cell_type": "code",
   "execution_count": 26,
   "metadata": {},
   "outputs": [
    {
     "data": {
      "text/plain": [
       ">chr1:19155621-19155668\n",
       "GAGAAAATAGAAGGTTGGACTCAAGGCATCAACACACAGGTCATAAAT"
      ]
     },
     "execution_count": 26,
     "metadata": {},
     "output_type": "execute_result"
    }
   ],
   "source": [
    "left_flank"
   ]
  },
  {
   "cell_type": "code",
   "execution_count": 27,
   "metadata": {},
   "outputs": [
    {
     "data": {
      "text/plain": [
       ">chr1:19155665-19155668\n",
       "AAAT"
      ]
     },
     "execution_count": 27,
     "metadata": {},
     "output_type": "execute_result"
    }
   ],
   "source": [
    "flank_half1"
   ]
  },
  {
   "cell_type": "code",
   "execution_count": 23,
   "metadata": {},
   "outputs": [
    {
     "data": {
      "text/plain": [
       "46"
      ]
     },
     "execution_count": 23,
     "metadata": {},
     "output_type": "execute_result"
    }
   ],
   "source": [
    "len(flank_half2)"
   ]
  },
  {
   "cell_type": "code",
   "execution_count": 21,
   "metadata": {},
   "outputs": [
    {
     "data": {
      "text/plain": [
       ">chr1:19210073-19210118\n",
       "CTCTCGATGACTGAGGCCACCAGCTGCGGCAACTCCTTCATCTCGA"
      ]
     },
     "execution_count": 21,
     "metadata": {},
     "output_type": "execute_result"
    }
   ],
   "source": [
    "flank_half2"
   ]
  },
  {
   "cell_type": "code",
   "execution_count": 133,
   "metadata": {},
   "outputs": [
    {
     "data": {
      "text/plain": [
       "True"
      ]
     },
     "execution_count": 133,
     "metadata": {},
     "output_type": "execute_result"
    }
   ],
   "source": [
    "reverse_complement(str(left_flank[-len(codon_ref) :])) == codon_ref.upper()"
   ]
  },
  {
   "cell_type": "code",
   "execution_count": 130,
   "metadata": {},
   "outputs": [
    {
     "data": {
      "text/plain": [
       "'aTTTat'"
      ]
     },
     "execution_count": 130,
     "metadata": {},
     "output_type": "execute_result"
    }
   ],
   "source": [
    "codon_ref"
   ]
  },
  {
   "cell_type": "code",
   "execution_count": 128,
   "metadata": {},
   "outputs": [
    {
     "data": {
      "text/plain": [
       "'aTTTat'"
      ]
     },
     "execution_count": 128,
     "metadata": {},
     "output_type": "execute_result"
    }
   ],
   "source": [
    "complementary_sequence(_codon_ref)"
   ]
  },
  {
   "cell_type": "code",
   "execution_count": 118,
   "metadata": {},
   "outputs": [
    {
     "data": {
      "text/plain": [
       "'aTTTat'"
      ]
     },
     "execution_count": 118,
     "metadata": {},
     "output_type": "execute_result"
    }
   ],
   "source": [
    "codon_ref"
   ]
  },
  {
   "cell_type": "code",
   "execution_count": 120,
   "metadata": {},
   "outputs": [
    {
     "data": {
      "text/plain": [
       ">chr1:19155624-19155668\n",
       "AAAATAGAAGGTTGGACTCAAGGCATCAACACACAGGTCATAAAT"
      ]
     },
     "execution_count": 120,
     "metadata": {},
     "output_type": "execute_result"
    }
   ],
   "source": [
    "left_flank"
   ]
  },
  {
   "cell_type": "code",
   "execution_count": 124,
   "metadata": {},
   "outputs": [],
   "source": [
    "def reverse_complement(dna_sequence):\n",
    "    complement_dict = {\"A\": \"T\", \"T\": \"A\", \"C\": \"G\", \"G\": \"C\"}\n",
    "    reverse_comp_seq = \"\".join(\n",
    "        complement_dict.get(base, base) for base in reversed(dna_sequence)\n",
    "    )\n",
    "    return reverse_comp_seq"
   ]
  },
  {
   "cell_type": "code",
   "execution_count": 114,
   "metadata": {},
   "outputs": [],
   "source": [
    "def flanking_lower_positions(string):\n",
    "    first_upper_index = None\n",
    "    last_upper_index = None\n",
    "\n",
    "    for i, char in enumerate(string):\n",
    "        if char.isupper():\n",
    "            if first_upper_index is None:\n",
    "                first_upper_index = i\n",
    "            last_upper_index = i\n",
    "\n",
    "    left_count = (\n",
    "        sum(1 for i in range(first_upper_index) if string[i].islower())\n",
    "        if first_upper_index is not None\n",
    "        else 0\n",
    "    )\n",
    "    right_count = (\n",
    "        sum(1 for i in range(last_upper_index + 1, len(string)) if string[i].islower())\n",
    "        if last_upper_index is not None\n",
    "        else 0\n",
    "    )\n",
    "\n",
    "    return left_count, right_count"
   ]
  },
  {
   "cell_type": "code",
   "execution_count": 115,
   "metadata": {},
   "outputs": [
    {
     "data": {
      "text/plain": [
       "(1, 2)"
      ]
     },
     "execution_count": 115,
     "metadata": {},
     "output_type": "execute_result"
    }
   ],
   "source": [
    "flanking_lower_positions(codon_ref)"
   ]
  },
  {
   "cell_type": "code",
   "execution_count": null,
   "metadata": {},
   "outputs": [],
   "source": []
  }
 ],
 "metadata": {
  "kernelspec": {
   "display_name": "Python 3 (ipykernel)",
   "language": "python",
   "name": "python3"
  },
  "language_info": {
   "codemirror_mode": {
    "name": "ipython",
    "version": 3
   },
   "file_extension": ".py",
   "mimetype": "text/x-python",
   "name": "python",
   "nbconvert_exporter": "python",
   "pygments_lexer": "ipython3",
   "version": "3.10.12"
  }
 },
 "nbformat": 4,
 "nbformat_minor": 2
}
