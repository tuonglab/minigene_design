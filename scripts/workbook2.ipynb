{
 "cells": [
  {
   "cell_type": "code",
   "execution_count": 1,
   "metadata": {},
   "outputs": [],
   "source": [
    "import os\n",
    "\n",
    "# os.chdir(\"/scratch/project/tcr_neoantigen/misc/jaz/scripts\")\n",
    "\n",
    "from pathlib import Path\n",
    "from pyfaidx import Fasta\n",
    "from tqdm import tqdm\n",
    "\n",
    "from _utils import (\n",
    "    find,\n",
    "    read_and_filter,\n",
    "    create_result_list,\n",
    "    extract_result,\n",
    "    extract_exon_info,\n",
    "    filter_exon_pos,\n",
    "    get_sequences_indel,\n",
    "    get_sequences_substitution,\n",
    "    complementary_sequence,\n",
    "    reverse_complement,\n",
    "    flanking_lower_positions,\n",
    "    # print_windows,\n",
    ")\n",
    "\n",
    "# define head paths\n",
    "HG38FOLDER = Path(\"../resources\")\n",
    "INPUTFOLDER = Path(\"../data/nextNEOpi\")"
   ]
  },
  {
   "cell_type": "code",
   "execution_count": 2,
   "metadata": {},
   "outputs": [],
   "source": [
    "# import reference and data\n",
    "fasta_file = HG38FOLDER / \"GRCh38.d1.vd1.fa\"\n",
    "gtf_file = HG38FOLDER / \"gencode.v33.primary_assembly.annotation.gtf\"\n",
    "refgen = Fasta(filename=fasta_file)\n",
    "exon_info = extract_exon_info(gtf_file)"
   ]
  },
  {
   "cell_type": "code",
   "execution_count": 3,
   "metadata": {},
   "outputs": [],
   "source": [
    "samples = [\n",
    "    \"2020135\",\n",
    "    \"2020239_WO1\",\n",
    "    \"2020246_NO1\",\n",
    "    \"2020260_WO1\",\n",
    "    \"2020281_WO1\",\n",
    "    \"2021111_MO1\",\n",
    "    \"DES001\",\n",
    "    \"DES002\",\n",
    "    \"DES002_001\",\n",
    "    \"DES002_002\",\n",
    "    \"DES010\",\n",
    "]"
   ]
  },
  {
   "cell_type": "code",
   "execution_count": 4,
   "metadata": {},
   "outputs": [
    {
     "name": "stdout",
     "output_type": "stream",
     "text": [
      "2020135 (107, 91)\n",
      "2020239_WO1 (95, 91)\n",
      "2020246_NO1 (70, 91)\n",
      "2020260_WO1 (27, 91)\n",
      "2020281_WO1 (29, 91)\n",
      "2021111_MO1 (32, 91)\n",
      "DES001 (4164, 91)\n",
      "DES002 (1240, 91)\n",
      "DES002_001 (5481, 91)\n",
      "DES002_002 (0, 91)\n",
      "DES010 (199, 91)\n",
      "2020135 ['SNV' 'deletion']\n",
      "2020239_WO1 ['SNV' 'deletion']\n",
      "2020246_NO1 ['SNV' 'deletion']\n",
      "2020260_WO1 ['SNV' 'deletion']\n",
      "2020281_WO1 ['SNV' 'deletion' 'insertion']\n",
      "2021111_MO1 ['SNV' 'insertion']\n",
      "DES001 ['SNV' 'substitution' 'deletion' 'insertion']\n",
      "DES002 ['SNV' 'substitution' 'deletion' 'insertion']\n",
      "DES002_001 ['SNV' 'substitution' 'deletion' 'insertion']\n",
      "DES002_002 []\n",
      "DES010 ['SNV' 'substitution']\n"
     ]
    }
   ],
   "source": [
    "results = {}\n",
    "for sample in samples:\n",
    "    file_input_path = (\n",
    "        INPUTFOLDER\n",
    "        / sample\n",
    "        / \"analyses\"\n",
    "        / sample\n",
    "        / \"05_vep\"\n",
    "        / \"tables\"\n",
    "        / \"high_confidence\"\n",
    "        / f\"{sample}_hc_vep.txt\"\n",
    "    )\n",
    "    results[sample] = read_and_filter(file_input_path)\n",
    "\n",
    "for sample in samples:\n",
    "    print(sample, results[sample].shape)\n",
    "\n",
    "for sample in samples:\n",
    "    print(sample, results[sample].VARIANT_CLASS.unique())"
   ]
  },
  {
   "cell_type": "code",
   "execution_count": 5,
   "metadata": {},
   "outputs": [
    {
     "name": "stderr",
     "output_type": "stream",
     "text": [
      "100%|██████████| 5/5 [00:00<00:00, 1646.37it/s]\n",
      "100%|██████████| 102/102 [00:00<00:00, 2337.83it/s]\n",
      "100%|██████████| 7/7 [00:00<00:00, 970.45it/s]\n",
      "100%|██████████| 88/88 [00:00<00:00, 3856.23it/s]\n",
      "100%|██████████| 3/3 [00:00<00:00, 1848.53it/s]\n",
      "100%|██████████| 67/67 [00:00<00:00, 4835.39it/s]\n",
      "100%|██████████| 2/2 [00:00<00:00, 1430.53it/s]\n",
      "100%|██████████| 25/25 [00:00<00:00, 3808.71it/s]\n",
      "100%|██████████| 1/1 [00:00<00:00, 1326.47it/s]\n",
      "100%|██████████| 4/4 [00:00<00:00, 1059.03it/s]\n",
      "100%|██████████| 24/24 [00:00<00:00, 3078.48it/s]\n",
      "100%|██████████| 1/1 [00:00<00:00, 604.19it/s]\n",
      "100%|██████████| 31/31 [00:00<00:00, 3525.01it/s]\n",
      "100%|██████████| 4/4 [00:00<00:00, 731.26it/s]\n",
      "100%|██████████| 17/17 [00:00<00:00, 835.38it/s]\n",
      "100%|██████████| 3711/3711 [00:00<00:00, 4249.83it/s]\n",
      "100%|██████████| 432/432 [00:00<00:00, 5268.17it/s]\n",
      "100%|██████████| 1/1 [00:00<00:00, 1392.99it/s]\n",
      "100%|██████████| 10/10 [00:00<00:00, 1009.39it/s]\n",
      "100%|██████████| 1107/1107 [00:00<00:00, 4044.25it/s]\n",
      "100%|██████████| 122/122 [00:00<00:00, 4588.87it/s]\n",
      "100%|██████████| 6/6 [00:00<00:00, 2436.19it/s]\n",
      "100%|██████████| 20/20 [00:00<00:00, 1756.85it/s]\n",
      "100%|██████████| 4913/4913 [00:01<00:00, 4904.48it/s]\n",
      "100%|██████████| 542/542 [00:00<00:00, 6892.77it/s]\n",
      "100%|██████████| 165/165 [00:00<00:00, 4628.45it/s]\n",
      "100%|██████████| 34/34 [00:00<00:00, 5537.68it/s]\n"
     ]
    }
   ],
   "source": [
    "for sample in samples:\n",
    "    df = results[sample].copy()\n",
    "    mut_dict = create_result_list(df)\n",
    "    mutations = find(mut_dict[\"variant_class\"], \"insertion\")\n",
    "    if len(mutations) > 0:\n",
    "        for mut in tqdm(mutations):\n",
    "            ref_seqs, var_seqs = get_sequences_indel(\n",
    "                mut_info=extract_result(mut_dict, mut),\n",
    "                exon_info=exon_info,\n",
    "                fasta=refgen,\n",
    "            )\n",
    "    mutations = find(mut_dict[\"variant_class\"], \"deletion\")\n",
    "    if len(mutations) > 0:\n",
    "        for mut in tqdm(mutations):\n",
    "            ref_seqs, var_seqs = get_sequences_indel(\n",
    "                mut_info=extract_result(mut_dict, mut),\n",
    "                exon_info=exon_info,\n",
    "                fasta=refgen,\n",
    "            )\n",
    "    mutations = find(mut_dict[\"variant_class\"], \"SNV\")\n",
    "    if len(mutations) > 0:\n",
    "        for mut in tqdm(mutations):\n",
    "            ref_seqs, var_seqs = get_sequences_substitution(\n",
    "                mut_info=extract_result(mut_dict, mut),\n",
    "                exon_info=exon_info,\n",
    "                fasta=refgen,\n",
    "            )\n",
    "    mutations = find(mut_dict[\"variant_class\"], \"substitution\")\n",
    "    if len(mutations) > 0:\n",
    "        for mut in tqdm(mutations):\n",
    "            ref_seqs, var_seqs = get_sequences_substitution(\n",
    "                mut_info=extract_result(mut_dict, mut),\n",
    "                exon_info=exon_info,\n",
    "                fasta=refgen,\n",
    "            )"
   ]
  },
  {
   "cell_type": "code",
   "execution_count": null,
   "metadata": {},
   "outputs": [],
   "source": []
  }
 ],
 "metadata": {
  "kernelspec": {
   "display_name": "Python 3 (ipykernel)",
   "language": "python",
   "name": "python3"
  },
  "language_info": {
   "codemirror_mode": {
    "name": "ipython",
    "version": 3
   },
   "file_extension": ".py",
   "mimetype": "text/x-python",
   "name": "python",
   "nbconvert_exporter": "python",
   "pygments_lexer": "ipython3",
   "version": "3.11.5"
  }
 },
 "nbformat": 4,
 "nbformat_minor": 2
}
